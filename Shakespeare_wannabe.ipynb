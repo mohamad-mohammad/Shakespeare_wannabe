{
  "nbformat": 4,
  "nbformat_minor": 0,
  "metadata": {
    "colab": {
      "name": "Shakespeare_wannabe.ipynb",
      "provenance": [],
      "collapsed_sections": [],
      "include_colab_link": true
    },
    "kernelspec": {
      "name": "python3",
      "display_name": "Python 3"
    },
    "accelerator": "GPU"
  },
  "cells": [
    {
      "cell_type": "markdown",
      "metadata": {
        "id": "view-in-github",
        "colab_type": "text"
      },
      "source": [
        "<a href=\"https://colab.research.google.com/github/mohamad-mohammad/Shakespeare_wannabe/blob/master/Shakespeare_wannabe.ipynb\" target=\"_parent\"><img src=\"https://colab.research.google.com/assets/colab-badge.svg\" alt=\"Open In Colab\"/></a>"
      ]
    },
    {
      "cell_type": "code",
      "metadata": {
        "id": "BOwsuGQQY9OL",
        "colab_type": "code",
        "colab": {
          "base_uri": "https://localhost:8080/",
          "height": 63
        },
        "outputId": "a5e8366a-6bda-4e21-d2eb-d04b92db3a40"
      },
      "source": [
        "from tensorflow.keras.preprocessing.sequence import pad_sequences\n",
        "from tensorflow.keras.layers import Embedding, LSTM, Dense, Dropout, Bidirectional\n",
        "from tensorflow.keras.preprocessing.text import Tokenizer\n",
        "from tensorflow.keras.models import Sequential\n",
        "from tensorflow.keras.optimizers import Adam\n",
        "from tensorflow.keras import regularizers\n",
        "import tensorflow.keras.utils as ku \n",
        "import numpy as np "
      ],
      "execution_count": 1,
      "outputs": [
        {
          "output_type": "display_data",
          "data": {
            "text/html": [
              "<p style=\"color: red;\">\n",
              "The default version of TensorFlow in Colab will soon switch to TensorFlow 2.x.<br>\n",
              "We recommend you <a href=\"https://www.tensorflow.org/guide/migrate\" target=\"_blank\">upgrade</a> now \n",
              "or ensure your notebook will continue to use TensorFlow 1.x via the <code>%tensorflow_version 1.x</code> magic:\n",
              "<a href=\"https://colab.research.google.com/notebooks/tensorflow_version.ipynb\" target=\"_blank\">more info</a>.</p>\n"
            ],
            "text/plain": [
              "<IPython.core.display.HTML object>"
            ]
          },
          "metadata": {
            "tags": []
          }
        }
      ]
    },
    {
      "cell_type": "code",
      "metadata": {
        "colab_type": "code",
        "id": "PRnDnCW-Z7qv",
        "colab": {
          "base_uri": "https://localhost:8080/",
          "height": 204
        },
        "outputId": "f088ddef-556e-4721-db12-ff2eb63e8a4b"
      },
      "source": [
        "tokenizer = Tokenizer()\n",
        "!wget --no-check-certificate \\\n",
        "    https://storage.googleapis.com/laurencemoroney-blog.appspot.com/sonnets.txt \\\n",
        "    -O /tmp/sonnets.txt\n",
        "data = open('/tmp/sonnets.txt').read()\n",
        "\n",
        "corpus = data.lower().split(\"\\n\")\n",
        "\n",
        "\n",
        "tokenizer.fit_on_texts(corpus)\n",
        "total_words = len(tokenizer.word_index) + 1\n",
        "\n",
        "# create input sequences using list of tokens\n",
        "input_sequences = []\n",
        "for line in corpus:\n",
        "\ttoken_list = tokenizer.texts_to_sequences([line])[0]\n",
        "\tfor i in range(1, len(token_list)):\n",
        "\t\tn_gram_sequence = token_list[:i+1]\n",
        "\t\tinput_sequences.append(n_gram_sequence)\n",
        "\n",
        "\n",
        "# pad sequences \n",
        "max_sequence_len = max([len(x) for x in input_sequences])\n",
        "input_sequences = np.array(pad_sequences(input_sequences, maxlen=max_sequence_len, padding='pre'))\n",
        "\n",
        "# create predictors and label\n",
        "predictors, label = input_sequences[:,:-1],input_sequences[:,-1]\n",
        "\n",
        "label = ku.to_categorical(label, num_classes=total_words)"
      ],
      "execution_count": 2,
      "outputs": [
        {
          "output_type": "stream",
          "text": [
            "--2020-01-07 19:14:31--  https://storage.googleapis.com/laurencemoroney-blog.appspot.com/sonnets.txt\n",
            "Resolving storage.googleapis.com (storage.googleapis.com)... 74.125.142.128, 2607:f8b0:400e:c03::80\n",
            "Connecting to storage.googleapis.com (storage.googleapis.com)|74.125.142.128|:443... connected.\n",
            "HTTP request sent, awaiting response... 200 OK\n",
            "Length: 93578 (91K) [text/plain]\n",
            "Saving to: ‘/tmp/sonnets.txt’\n",
            "\n",
            "\r/tmp/sonnets.txt      0%[                    ]       0  --.-KB/s               \r/tmp/sonnets.txt    100%[===================>]  91.38K  --.-KB/s    in 0.001s  \n",
            "\n",
            "2020-01-07 19:14:31 (171 MB/s) - ‘/tmp/sonnets.txt’ saved [93578/93578]\n",
            "\n"
          ],
          "name": "stdout"
        }
      ]
    },
    {
      "cell_type": "code",
      "metadata": {
        "id": "w9vH8Y59ajYL",
        "colab_type": "code",
        "colab": {
          "base_uri": "https://localhost:8080/",
          "height": 649
        },
        "outputId": "967be8d2-92f4-4189-f239-8e310ff8025f"
      },
      "source": [
        "model = Sequential()\n",
        "model.add(Embedding(total_words, 100, input_length=max_sequence_len-1))\n",
        "model.add(Bidirectional(LSTM(150, return_sequences = True)))\n",
        "model.add(Dropout(0.2))\n",
        "model.add(LSTM(100))\n",
        "model.add(Dense(total_words/2, activation='relu', kernel_regularizer=regularizers.l2(0.01)))\n",
        "model.add(Dense(total_words, activation='softmax'))\n",
        "model.compile(loss='categorical_crossentropy', optimizer='adam', metrics=['accuracy'])\n",
        "print(model.summary())\n"
      ],
      "execution_count": 3,
      "outputs": [
        {
          "output_type": "stream",
          "text": [
            "WARNING:tensorflow:From /usr/local/lib/python3.6/dist-packages/tensorflow_core/python/keras/initializers.py:119: calling RandomUniform.__init__ (from tensorflow.python.ops.init_ops) with dtype is deprecated and will be removed in a future version.\n",
            "Instructions for updating:\n",
            "Call initializer instance with the dtype argument instead of passing it to the constructor\n",
            "WARNING:tensorflow:From /usr/local/lib/python3.6/dist-packages/tensorflow_core/python/ops/resource_variable_ops.py:1630: calling BaseResourceVariable.__init__ (from tensorflow.python.ops.resource_variable_ops) with constraint is deprecated and will be removed in a future version.\n",
            "Instructions for updating:\n",
            "If using Keras pass *_constraint arguments to layers.\n",
            "WARNING:tensorflow:From /usr/local/lib/python3.6/dist-packages/tensorflow_core/python/ops/init_ops.py:97: calling GlorotUniform.__init__ (from tensorflow.python.ops.init_ops) with dtype is deprecated and will be removed in a future version.\n",
            "Instructions for updating:\n",
            "Call initializer instance with the dtype argument instead of passing it to the constructor\n",
            "WARNING:tensorflow:From /usr/local/lib/python3.6/dist-packages/tensorflow_core/python/ops/init_ops.py:97: calling Orthogonal.__init__ (from tensorflow.python.ops.init_ops) with dtype is deprecated and will be removed in a future version.\n",
            "Instructions for updating:\n",
            "Call initializer instance with the dtype argument instead of passing it to the constructor\n",
            "WARNING:tensorflow:From /usr/local/lib/python3.6/dist-packages/tensorflow_core/python/ops/init_ops.py:97: calling Zeros.__init__ (from tensorflow.python.ops.init_ops) with dtype is deprecated and will be removed in a future version.\n",
            "Instructions for updating:\n",
            "Call initializer instance with the dtype argument instead of passing it to the constructor\n",
            "Model: \"sequential\"\n",
            "_________________________________________________________________\n",
            "Layer (type)                 Output Shape              Param #   \n",
            "=================================================================\n",
            "embedding (Embedding)        (None, 10, 100)           321100    \n",
            "_________________________________________________________________\n",
            "bidirectional (Bidirectional (None, 10, 300)           301200    \n",
            "_________________________________________________________________\n",
            "dropout (Dropout)            (None, 10, 300)           0         \n",
            "_________________________________________________________________\n",
            "lstm_1 (LSTM)                (None, 100)               160400    \n",
            "_________________________________________________________________\n",
            "dense (Dense)                (None, 1605)              162105    \n",
            "_________________________________________________________________\n",
            "dense_1 (Dense)              (None, 3211)              5156866   \n",
            "=================================================================\n",
            "Total params: 6,101,671\n",
            "Trainable params: 6,101,671\n",
            "Non-trainable params: 0\n",
            "_________________________________________________________________\n",
            "None\n"
          ],
          "name": "stdout"
        }
      ]
    },
    {
      "cell_type": "code",
      "metadata": {
        "id": "AIg2f1HBxqof",
        "colab_type": "code",
        "colab": {
          "base_uri": "https://localhost:8080/",
          "height": 1000
        },
        "outputId": "d46efbcc-c348-4703-b0cb-66ae1e8cd517"
      },
      "source": [
        " history = model.fit(predictors, label, epochs=100, verbose=1)"
      ],
      "execution_count": 4,
      "outputs": [
        {
          "output_type": "stream",
          "text": [
            "WARNING:tensorflow:From /usr/local/lib/python3.6/dist-packages/tensorflow_core/python/ops/math_grad.py:1424: where (from tensorflow.python.ops.array_ops) is deprecated and will be removed in a future version.\n",
            "Instructions for updating:\n",
            "Use tf.where in 2.0, which has the same broadcast rule as np.where\n",
            "Train on 15462 samples\n",
            "Epoch 1/100\n",
            "15462/15462 [==============================] - 21s 1ms/sample - loss: 6.9055 - acc: 0.0218\n",
            "Epoch 2/100\n",
            "15462/15462 [==============================] - 18s 1ms/sample - loss: 6.4991 - acc: 0.0214\n",
            "Epoch 3/100\n",
            "15462/15462 [==============================] - 18s 1ms/sample - loss: 6.3880 - acc: 0.0255\n",
            "Epoch 4/100\n",
            "15462/15462 [==============================] - 18s 1ms/sample - loss: 6.2661 - acc: 0.0305\n",
            "Epoch 5/100\n",
            "15462/15462 [==============================] - 18s 1ms/sample - loss: 6.1803 - acc: 0.0342\n",
            "Epoch 6/100\n",
            "15462/15462 [==============================] - 18s 1ms/sample - loss: 6.1009 - acc: 0.0392\n",
            "Epoch 7/100\n",
            "15462/15462 [==============================] - 18s 1ms/sample - loss: 6.0164 - acc: 0.0402\n",
            "Epoch 8/100\n",
            "15462/15462 [==============================] - 18s 1ms/sample - loss: 5.9353 - acc: 0.0439\n",
            "Epoch 9/100\n",
            "15462/15462 [==============================] - 18s 1ms/sample - loss: 5.8393 - acc: 0.0501\n",
            "Epoch 10/100\n",
            "15462/15462 [==============================] - 18s 1ms/sample - loss: 5.7366 - acc: 0.0557\n",
            "Epoch 11/100\n",
            "15462/15462 [==============================] - 18s 1ms/sample - loss: 5.6249 - acc: 0.0654\n",
            "Epoch 12/100\n",
            "15462/15462 [==============================] - 18s 1ms/sample - loss: 5.5183 - acc: 0.0688\n",
            "Epoch 13/100\n",
            "15462/15462 [==============================] - 18s 1ms/sample - loss: 5.4145 - acc: 0.0777\n",
            "Epoch 14/100\n",
            "15462/15462 [==============================] - 18s 1ms/sample - loss: 5.3060 - acc: 0.0846\n",
            "Epoch 15/100\n",
            "15462/15462 [==============================] - 18s 1ms/sample - loss: 5.2009 - acc: 0.0924\n",
            "Epoch 16/100\n",
            "15462/15462 [==============================] - 19s 1ms/sample - loss: 5.0884 - acc: 0.1008\n",
            "Epoch 17/100\n",
            "15462/15462 [==============================] - 19s 1ms/sample - loss: 4.9831 - acc: 0.1065\n",
            "Epoch 18/100\n",
            "15462/15462 [==============================] - 18s 1ms/sample - loss: 4.8747 - acc: 0.1167\n",
            "Epoch 19/100\n",
            "15462/15462 [==============================] - 19s 1ms/sample - loss: 4.7668 - acc: 0.1263\n",
            "Epoch 20/100\n",
            "15462/15462 [==============================] - 18s 1ms/sample - loss: 4.6635 - acc: 0.1325\n",
            "Epoch 21/100\n",
            "15462/15462 [==============================] - 18s 1ms/sample - loss: 4.5577 - acc: 0.1460\n",
            "Epoch 22/100\n",
            "15462/15462 [==============================] - 19s 1ms/sample - loss: 4.4532 - acc: 0.1559\n",
            "Epoch 23/100\n",
            "15462/15462 [==============================] - 18s 1ms/sample - loss: 4.3523 - acc: 0.1636\n",
            "Epoch 24/100\n",
            "15462/15462 [==============================] - 18s 1ms/sample - loss: 4.2441 - acc: 0.1745\n",
            "Epoch 25/100\n",
            "15462/15462 [==============================] - 18s 1ms/sample - loss: 4.1400 - acc: 0.1905\n",
            "Epoch 26/100\n",
            "15462/15462 [==============================] - 19s 1ms/sample - loss: 4.0370 - acc: 0.2029\n",
            "Epoch 27/100\n",
            "15462/15462 [==============================] - 18s 1ms/sample - loss: 3.9440 - acc: 0.2172\n",
            "Epoch 28/100\n",
            "15462/15462 [==============================] - 18s 1ms/sample - loss: 3.8377 - acc: 0.2374\n",
            "Epoch 29/100\n",
            "15462/15462 [==============================] - 19s 1ms/sample - loss: 3.7448 - acc: 0.2527\n",
            "Epoch 30/100\n",
            "15462/15462 [==============================] - 18s 1ms/sample - loss: 3.6556 - acc: 0.2690\n",
            "Epoch 31/100\n",
            "15462/15462 [==============================] - 18s 1ms/sample - loss: 3.5516 - acc: 0.2904\n",
            "Epoch 32/100\n",
            "15462/15462 [==============================] - 18s 1ms/sample - loss: 3.4691 - acc: 0.3062\n",
            "Epoch 33/100\n",
            "15462/15462 [==============================] - 19s 1ms/sample - loss: 3.3793 - acc: 0.3302\n",
            "Epoch 34/100\n",
            "15462/15462 [==============================] - 18s 1ms/sample - loss: 3.2923 - acc: 0.3459\n",
            "Epoch 35/100\n",
            "15462/15462 [==============================] - 19s 1ms/sample - loss: 3.2156 - acc: 0.3597\n",
            "Epoch 36/100\n",
            "15462/15462 [==============================] - 18s 1ms/sample - loss: 3.1286 - acc: 0.3787\n",
            "Epoch 37/100\n",
            "15462/15462 [==============================] - 18s 1ms/sample - loss: 3.0483 - acc: 0.4019\n",
            "Epoch 38/100\n",
            "15462/15462 [==============================] - 18s 1ms/sample - loss: 2.9761 - acc: 0.4211\n",
            "Epoch 39/100\n",
            "15462/15462 [==============================] - 19s 1ms/sample - loss: 2.9011 - acc: 0.4324\n",
            "Epoch 40/100\n",
            "15462/15462 [==============================] - 18s 1ms/sample - loss: 2.8289 - acc: 0.4523\n",
            "Epoch 41/100\n",
            "15462/15462 [==============================] - 18s 1ms/sample - loss: 2.7586 - acc: 0.4706\n",
            "Epoch 42/100\n",
            "15462/15462 [==============================] - 18s 1ms/sample - loss: 2.7063 - acc: 0.4810\n",
            "Epoch 43/100\n",
            "15462/15462 [==============================] - 18s 1ms/sample - loss: 2.6348 - acc: 0.4977\n",
            "Epoch 44/100\n",
            "15462/15462 [==============================] - 18s 1ms/sample - loss: 2.5716 - acc: 0.5106\n",
            "Epoch 45/100\n",
            "15462/15462 [==============================] - 18s 1ms/sample - loss: 2.5091 - acc: 0.5261\n",
            "Epoch 46/100\n",
            "15462/15462 [==============================] - 18s 1ms/sample - loss: 2.4688 - acc: 0.5345\n",
            "Epoch 47/100\n",
            "15462/15462 [==============================] - 18s 1ms/sample - loss: 2.4088 - acc: 0.5498\n",
            "Epoch 48/100\n",
            "15462/15462 [==============================] - 18s 1ms/sample - loss: 2.3565 - acc: 0.5603\n",
            "Epoch 49/100\n",
            "15462/15462 [==============================] - 18s 1ms/sample - loss: 2.3067 - acc: 0.5732\n",
            "Epoch 50/100\n",
            "15462/15462 [==============================] - 19s 1ms/sample - loss: 2.2454 - acc: 0.5858\n",
            "Epoch 51/100\n",
            "15462/15462 [==============================] - 18s 1ms/sample - loss: 2.2293 - acc: 0.5847\n",
            "Epoch 52/100\n",
            "15462/15462 [==============================] - 19s 1ms/sample - loss: 2.1611 - acc: 0.6049\n",
            "Epoch 53/100\n",
            "15462/15462 [==============================] - 18s 1ms/sample - loss: 2.1213 - acc: 0.6114\n",
            "Epoch 54/100\n",
            "15462/15462 [==============================] - 18s 1ms/sample - loss: 2.0845 - acc: 0.6216\n",
            "Epoch 55/100\n",
            "15462/15462 [==============================] - 18s 1ms/sample - loss: 2.0432 - acc: 0.6299\n",
            "Epoch 56/100\n",
            "15462/15462 [==============================] - 18s 1ms/sample - loss: 2.0118 - acc: 0.6342\n",
            "Epoch 57/100\n",
            "15462/15462 [==============================] - 19s 1ms/sample - loss: 1.9648 - acc: 0.6482\n",
            "Epoch 58/100\n",
            "15462/15462 [==============================] - 18s 1ms/sample - loss: 1.9305 - acc: 0.6555\n",
            "Epoch 59/100\n",
            "15462/15462 [==============================] - 18s 1ms/sample - loss: 1.8899 - acc: 0.6614\n",
            "Epoch 60/100\n",
            "15462/15462 [==============================] - 18s 1ms/sample - loss: 1.8552 - acc: 0.6728\n",
            "Epoch 61/100\n",
            "15462/15462 [==============================] - 19s 1ms/sample - loss: 1.8227 - acc: 0.6770\n",
            "Epoch 62/100\n",
            "15462/15462 [==============================] - 19s 1ms/sample - loss: 1.7949 - acc: 0.6870\n",
            "Epoch 63/100\n",
            "15462/15462 [==============================] - 19s 1ms/sample - loss: 1.7616 - acc: 0.6881\n",
            "Epoch 64/100\n",
            "15462/15462 [==============================] - 19s 1ms/sample - loss: 1.7355 - acc: 0.6953\n",
            "Epoch 65/100\n",
            "15462/15462 [==============================] - 19s 1ms/sample - loss: 1.7132 - acc: 0.6990\n",
            "Epoch 66/100\n",
            "15462/15462 [==============================] - 19s 1ms/sample - loss: 1.6820 - acc: 0.7039\n",
            "Epoch 67/100\n",
            "15462/15462 [==============================] - 19s 1ms/sample - loss: 1.6567 - acc: 0.7127\n",
            "Epoch 68/100\n",
            "15462/15462 [==============================] - 18s 1ms/sample - loss: 1.6213 - acc: 0.7156\n",
            "Epoch 69/100\n",
            "15462/15462 [==============================] - 18s 1ms/sample - loss: 1.6026 - acc: 0.7227\n",
            "Epoch 70/100\n",
            "15462/15462 [==============================] - 19s 1ms/sample - loss: 1.5691 - acc: 0.7282\n",
            "Epoch 71/100\n",
            "15462/15462 [==============================] - 18s 1ms/sample - loss: 1.5493 - acc: 0.7307\n",
            "Epoch 72/100\n",
            "15462/15462 [==============================] - 18s 1ms/sample - loss: 1.5406 - acc: 0.7300\n",
            "Epoch 73/100\n",
            "15462/15462 [==============================] - 19s 1ms/sample - loss: 1.5083 - acc: 0.7376\n",
            "Epoch 74/100\n",
            "15462/15462 [==============================] - 19s 1ms/sample - loss: 1.5023 - acc: 0.7376\n",
            "Epoch 75/100\n",
            "15462/15462 [==============================] - 19s 1ms/sample - loss: 1.4716 - acc: 0.7472\n",
            "Epoch 76/100\n",
            "15462/15462 [==============================] - 19s 1ms/sample - loss: 1.4657 - acc: 0.7474\n",
            "Epoch 77/100\n",
            "15462/15462 [==============================] - 19s 1ms/sample - loss: 1.4376 - acc: 0.7546\n",
            "Epoch 78/100\n",
            "15462/15462 [==============================] - 19s 1ms/sample - loss: 1.4104 - acc: 0.7591\n",
            "Epoch 79/100\n",
            "15462/15462 [==============================] - 19s 1ms/sample - loss: 1.3964 - acc: 0.7604\n",
            "Epoch 80/100\n",
            "15462/15462 [==============================] - 20s 1ms/sample - loss: 1.3794 - acc: 0.7649\n",
            "Epoch 81/100\n",
            "15462/15462 [==============================] - 19s 1ms/sample - loss: 1.3695 - acc: 0.7658\n",
            "Epoch 82/100\n",
            "15462/15462 [==============================] - 20s 1ms/sample - loss: 1.3451 - acc: 0.7676\n",
            "Epoch 83/100\n",
            "15462/15462 [==============================] - 20s 1ms/sample - loss: 1.3380 - acc: 0.7710\n",
            "Epoch 84/100\n",
            "15462/15462 [==============================] - 19s 1ms/sample - loss: 1.3230 - acc: 0.7722\n",
            "Epoch 85/100\n",
            "15462/15462 [==============================] - 19s 1ms/sample - loss: 1.3096 - acc: 0.7731\n",
            "Epoch 86/100\n",
            "15462/15462 [==============================] - 19s 1ms/sample - loss: 1.2927 - acc: 0.7771\n",
            "Epoch 87/100\n",
            "15462/15462 [==============================] - 19s 1ms/sample - loss: 1.2783 - acc: 0.7814\n",
            "Epoch 88/100\n",
            "15462/15462 [==============================] - 19s 1ms/sample - loss: 1.2711 - acc: 0.7792\n",
            "Epoch 89/100\n",
            "15462/15462 [==============================] - 19s 1ms/sample - loss: 1.2548 - acc: 0.7848\n",
            "Epoch 90/100\n",
            "15462/15462 [==============================] - 19s 1ms/sample - loss: 1.2314 - acc: 0.7888\n",
            "Epoch 91/100\n",
            "15462/15462 [==============================] - 19s 1ms/sample - loss: 1.2268 - acc: 0.7902\n",
            "Epoch 92/100\n",
            "15462/15462 [==============================] - 19s 1ms/sample - loss: 1.2230 - acc: 0.7892\n",
            "Epoch 93/100\n",
            "15462/15462 [==============================] - 19s 1ms/sample - loss: 1.2032 - acc: 0.7959\n",
            "Epoch 94/100\n",
            "15462/15462 [==============================] - 19s 1ms/sample - loss: 1.1929 - acc: 0.7963\n",
            "Epoch 95/100\n",
            "15462/15462 [==============================] - 19s 1ms/sample - loss: 1.1881 - acc: 0.7940\n",
            "Epoch 96/100\n",
            "15462/15462 [==============================] - 19s 1ms/sample - loss: 1.1775 - acc: 0.7963\n",
            "Epoch 97/100\n",
            "15462/15462 [==============================] - 21s 1ms/sample - loss: 1.1573 - acc: 0.7982\n",
            "Epoch 98/100\n",
            "15462/15462 [==============================] - 19s 1ms/sample - loss: 1.1560 - acc: 0.8007\n",
            "Epoch 99/100\n",
            "15462/15462 [==============================] - 19s 1ms/sample - loss: 1.1555 - acc: 0.7958\n",
            "Epoch 100/100\n",
            "15462/15462 [==============================] - 19s 1ms/sample - loss: 1.1404 - acc: 0.8032\n"
          ],
          "name": "stdout"
        }
      ]
    },
    {
      "cell_type": "code",
      "metadata": {
        "id": "1fXTEO3GJ282",
        "colab_type": "code",
        "colab": {
          "base_uri": "https://localhost:8080/",
          "height": 545
        },
        "outputId": "34b7ee78-6d60-4df1-a69b-b8989adff94b"
      },
      "source": [
        "import matplotlib.pyplot as plt\n",
        "acc = history.history['acc']\n",
        "loss = history.history['loss']\n",
        "\n",
        "epochs = range(len(acc))\n",
        "\n",
        "plt.plot(epochs, acc, 'b', label='Training accuracy')\n",
        "plt.title('Training accuracy')\n",
        "\n",
        "plt.figure()\n",
        "\n",
        "plt.plot(epochs, loss, 'b', label='Training Loss')\n",
        "plt.title('Training loss')\n",
        "plt.legend()\n",
        "\n",
        "plt.show()"
      ],
      "execution_count": 7,
      "outputs": [
        {
          "output_type": "display_data",
          "data": {
            "image/png": "[encoded data removed]",
            "text/plain": [
              "<Figure size 432x288 with 1 Axes>"
            ]
          },
          "metadata": {
            "tags": []
          }
        },
        {
          "output_type": "display_data",
          "data": {
            "image/png": "[encoded data removed]",
            "text/plain": [
              "<Figure size 432x288 with 1 Axes>"
            ]
          },
          "metadata": {
            "tags": []
          }
        }
      ]
    },
    {
      "cell_type": "code",
      "metadata": {
        "id": "6Vc6PHgxa6Hm",
        "colab_type": "code",
        "colab": {
          "base_uri": "https://localhost:8080/",
          "height": 54
        },
        "outputId": "6dbcf3c7-548c-476a-ab24-ed325f5cc9b9"
      },
      "source": [
        "seed_text = \"Help me Obi Wan Kenobi, you're my only hope\"\n",
        "next_words = 100\n",
        "  \n",
        "for _ in range(next_words):\n",
        "\ttoken_list = tokenizer.texts_to_sequences([seed_text])[0]\n",
        "\ttoken_list = pad_sequences([token_list], maxlen=max_sequence_len-1, padding='pre')\n",
        "\tpredicted = model.predict_classes(token_list, verbose=0)\n",
        "\toutput_word = \"\"\n",
        "\tfor word, index in tokenizer.word_index.items():\n",
        "\t\tif index == predicted:\n",
        "\t\t\toutput_word = word\n",
        "\t\t\tbreak\n",
        "\tseed_text += \" \" + output_word\n",
        "print(seed_text)"
      ],
      "execution_count": 8,
      "outputs": [
        {
          "output_type": "stream",
          "text": [
            "Help me Obi Wan Kenobi, you're my only hope shall tell the face will know it is so perjured good disdaineth fall on one days lies done doth despise rare taken new forth we kill there confounds hue youth convertest thence verse thine wrong ' contains pace show dispense sit twain rare arising ' hearted ' did bow toil'd eyed warm'd bow bow taken dearer wrong ' live bearing gentle deem'd survey free twain borne pace lie to give me thine art old thine eye ' with much need bright dwell thine harvest painted past ' did dwell alone pace fired torn grow wide old brow age alone dearer\n"
          ],
          "name": "stdout"
        }
      ]
    },
    {
      "cell_type": "code",
      "metadata": {
        "id": "XvPVZsVViej_",
        "colab_type": "code",
        "colab": {}
      },
      "source": [
        ""
      ],
      "execution_count": 0,
      "outputs": []
    }
  ]
}